{
 "cells": [
  {
   "cell_type": "markdown",
   "metadata": {},
   "source": [
    "# Dimensión de Tipo de Combustible\n",
    "\n",
    " - **Desarrollador:** Víctor Echeverría\n",
    " - **Fecha:** 2020-09-14\n",
    " - **Descripción:** Ejecuta la carga de tipo de combustible diariamente siempre."
   ]
  },
  {
   "cell_type": "code",
   "execution_count": 1,
   "metadata": {
    "scrolled": false
   },
   "outputs": [
    {
     "name": "stdout",
     "output_type": "stream",
     "text": [
      "---- Proceso de ETL de Dimensiones de Tipos de Combustible ---- \n",
      "\n",
      "DATAWAREHOUSE: dwh_sirio\n",
      "DIMENSIÓN: dim_tipo_combustible \n",
      "\n",
      "1. Extracción de datos\n",
      "2. Transformación de datos\n",
      "3. Cargar  datos\n",
      "\n",
      "+---+------+\n",
      "| pk|Result|\n",
      "+---+------+\n",
      "| 14|  true|\n",
      "| 13|  true|\n",
      "+---+------+\n",
      "\n",
      " **** EXITOSO: Datos insertados correctamente en la dimensión de cen_dws.dim_tipo_combustible.**** \n"
     ]
    }
   ],
   "source": [
    "from DimTipoCombustible import ETLTipoCombustibleBL\n",
    "\n",
    "dim = ETLTipoCombustibleBL()\n",
    "dim.Elt_main()"
   ]
  }
 ],
 "metadata": {
  "kernelspec": {
   "display_name": "Python 3",
   "language": "python",
   "name": "python3"
  },
  "language_info": {
   "codemirror_mode": {
    "name": "ipython",
    "version": 3
   },
   "file_extension": ".py",
   "mimetype": "text/x-python",
   "name": "python",
   "nbconvert_exporter": "python",
   "pygments_lexer": "ipython3",
   "version": "3.7.3"
  }
 },
 "nbformat": 4,
 "nbformat_minor": 2
}
