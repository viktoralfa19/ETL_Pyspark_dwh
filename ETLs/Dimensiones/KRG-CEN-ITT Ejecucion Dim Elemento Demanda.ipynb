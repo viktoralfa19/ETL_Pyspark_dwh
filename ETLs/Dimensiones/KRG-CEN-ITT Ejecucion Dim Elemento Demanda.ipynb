{
 "cells": [
  {
   "cell_type": "markdown",
   "metadata": {},
   "source": [
    "# Dimensión de Elementos de Demanda\n",
    "\n",
    " - **Desarrollador:** Víctor Echeverría\n",
    " - **Fecha:** 2020-09-12\n",
    " - **Descripción:** Ejecuta la carga de elementos de demanda diariamente siempre."
   ]
  },
  {
   "cell_type": "code",
   "execution_count": 1,
   "metadata": {
    "scrolled": false
   },
   "outputs": [
    {
     "name": "stdout",
     "output_type": "stream",
     "text": [
      "---- Proceso de ETL de Dimensiones de ELEMENTOS de DEMANDA ---- \n",
      "\n",
      "DATAWAREHOUSE: dwh_sirio\n",
      "DIMENSIÓN: dim_agt_elemento_demanda \n",
      "\n",
      "1. Extracción de datos\n",
      "2. Transformación de datos\n",
      "3. Cargar  datos\n",
      "\n",
      "+---+------+\n",
      "| pk|Result|\n",
      "+---+------+\n",
      "|359|  true|\n",
      "|101|  true|\n",
      "+---+------+\n",
      "\n",
      " **** EXITOSO: Datos insertados correctamente en la dimensión de cen_dws.dim_agt_elemento_demanda.**** \n"
     ]
    }
   ],
   "source": [
    "from DimElementoDemanda import ETLElementosDemandaBL\n",
    "\n",
    "dim = ETLElementosDemandaBL()\n",
    "dim.Elt_main()"
   ]
  }
 ],
 "metadata": {
  "kernelspec": {
   "display_name": "Python 3",
   "language": "python",
   "name": "python3"
  },
  "language_info": {
   "codemirror_mode": {
    "name": "ipython",
    "version": 3
   },
   "file_extension": ".py",
   "mimetype": "text/x-python",
   "name": "python",
   "nbconvert_exporter": "python",
   "pygments_lexer": "ipython3",
   "version": "3.7.3"
  }
 },
 "nbformat": 4,
 "nbformat_minor": 2
}
