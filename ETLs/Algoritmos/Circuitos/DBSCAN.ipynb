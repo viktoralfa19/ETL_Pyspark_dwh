{
 "cells": [
  {
   "cell_type": "markdown",
   "metadata": {},
   "source": [
    "# Algorítmo de limpieza de potencia aparente de Circuitos\n",
    "\n",
    "El presente algorítmo permitirá obtener valores de potencia aparente validada para almacenarla en el DWH, la estampa de tiempo de la validación es de 1 minuto.\n",
    "\n",
    "### Pasos a seguir durante el proceso:\n",
    "\n",
    "    - Limpieza de outliers con el Método: DBSCAN\n",
    "    - Aplicación del algoritmo de validación de máximos y mínimos\n",
    "    - Almacenamiento de los datos validados en el DWH"
   ]
  },
  {
   "cell_type": "markdown",
   "metadata": {},
   "source": [
    "### Limpieza de outliers con el Método: DBSCAN\n",
    "\n",
    "Utilizaremos la biblioreca **sklearn** la cual tiene listo el algoritmo DBSCAN para ser implementado."
   ]
  },
  {
   "cell_type": "code",
   "execution_count": 1,
   "metadata": {},
   "outputs": [],
   "source": [
    "### Importación de clases y paquetes\n",
    "\n",
    "from GetCircuitos import GetCircuitos\n",
    "from pyspark.sql.functions import to_timestamp, col, regexp_replace\n",
    "import datetime\n",
    "import pandas as pd\n",
    "import numpy as np\n",
    "import seaborn as sns\n",
    "from sklearn.decomposition import PCA\n",
    "import sklearn.neighbors\n",
    "from sklearn.neighbors import kneighbors_graph\n",
    "from sklearn import preprocessing\n",
    "from sklearn.cluster import DBSCAN\n",
    "import matplotlib.pylab as plt\n",
    "%matplotlib inline\n",
    "from matplotlib.pylab import rcParams\n",
    "rcParams['figure.figsize'] = 15, 6"
   ]
  },
  {
   "cell_type": "markdown",
   "metadata": {},
   "source": [
    "#### Obtención de los datos de Circuitos desde el HDFS ( POTENCIA DESTINO)"
   ]
  },
  {
   "cell_type": "code",
   "execution_count": 2,
   "metadata": {},
   "outputs": [
    {
     "name": "stdout",
     "output_type": "stream",
     "text": [
      "['Id', 'circuito', 'Potencia', 'Calidad', 'TagCalidadDestino', 'TagPotenciaDestino', 'Fecha', 'LimMaxOperacion', 'LimOperacionContinuo', 'LimTermico', 'NumCircuitos']\n",
      "+----------+---------------------------------+\n",
      "|circuito  |TagPotenciaDestino               |\n",
      "+----------+---------------------------------+\n",
      "|ESM230DOM1|S_DOMING230ESMER_1_S.LINEA_CAL.AV|\n",
      "+----------+---------------------------------+\n",
      "\n"
     ]
    }
   ],
   "source": [
    "# Datos de entrada\n",
    "\n",
    "fecha_inicio = datetime.datetime.strptime('2019-10-10 00:00', '%Y-%m-%d %H:%M')\n",
    "fecha_fin = datetime.datetime.strptime('2019-10-10 23:59', '%Y-%m-%d %H:%M')\n",
    "circuito = 'ESM230DOM1'\n",
    "dimension = 'Potencia Aparente'\n",
    "\n",
    "# Datos De circuitos (DataFrame Pyspark)\n",
    "\n",
    "getCircuitos = GetCircuitos(TableName = '', FileName='circuitos_destino_*')\n",
    "circuitosDestino = getCircuitos.GetDataDestino(fecha_inicio,fecha_fin,circuito)\n",
    "print(circuitosDestino.columns)\n",
    "circuitosDestino.select('circuito','TagPotenciaDestino').distinct().show(truncate=False)\n",
    "tag = circuitosDestino.select('TagPotenciaDestino').distinct().first()[0]\n",
    "\n",
    "# Datos a pandas dataframe\n",
    "\n",
    "datosDestino = circuitosDestino.toPandas().set_index('Fecha')"
   ]
  },
  {
   "cell_type": "markdown",
   "metadata": {},
   "source": [
    "#### Definición del Algoritmo DBSCAN, salida de datos outliers y datos limpios"
   ]
  },
  {
   "cell_type": "code",
   "execution_count": 3,
   "metadata": {},
   "outputs": [],
   "source": [
    "# Método DBSCAN\n",
    "\n",
    "def limpiar_outliers(datos,epsilon = 0.01, samples = 5):\n",
    "    datos_totales = datos.copy()\n",
    "    \n",
    "    # Normalizando los datos con MaxMin()\n",
    "    min_max_scaler = preprocessing.MinMaxScaler()\n",
    "    df_escalado = min_max_scaler.fit_transform(datos_totales)\n",
    "    df_escalado = pd.DataFrame(df_escalado)\n",
    "    df_escalado = df_escalado.rename(columns={0:'Id',1:'Potencia'})\n",
    "    \n",
    "    # Aplicación del DBSCAN\n",
    "    dbscan = DBSCAN(eps=epsilon, min_samples=samples, metric='euclidean').fit(df_escalado)\n",
    "    clusters = dbscan.fit_predict(df_escalado)\n",
    "    return clusters,df_escalado"
   ]
  },
  {
   "cell_type": "markdown",
   "metadata": {},
   "source": [
    "#### Aplicación del Algoritmo DBSCAN"
   ]
  },
  {
   "cell_type": "code",
   "execution_count": 4,
   "metadata": {},
   "outputs": [],
   "source": [
    "# Limpieza de datos\n",
    "\n",
    "datos = datosDestino[['Id','Potencia']].copy()\n",
    "n_neighbors = 5\n",
    "if(datos['Id'].count()<5):\n",
    "    n_neighbors = datos['Id'].count()\n",
    "    \n",
    "clusters,df_escalado = limpiar_outliers(datos, 0.01, n_neighbors)"
   ]
  },
  {
   "cell_type": "markdown",
   "metadata": {},
   "source": [
    "#### Gráfica ELBOW para conocer el epsilon adecuado para clusterizar"
   ]
  },
  {
   "cell_type": "code",
   "execution_count": 5,
   "metadata": {},
   "outputs": [
    {
     "data": {
      "image/png": "[encoded data removed]",
      "text/plain": [
       "<Figure size 1080x432 with 1 Axes>"
      ]
     },
     "metadata": {
      "needs_background": "light"
     },
     "output_type": "display_data"
    }
   ],
   "source": [
    "# Parametrización del algorítmo\n",
    "\n",
    "estimador = PCA(n_components = 2)\n",
    "x_pca = estimador.fit_transform(df_escalado)\n",
    "dist = sklearn.neighbors.DistanceMetric.get_metric('euclidean')\n",
    "matsim = dist.pairwise(x_pca)\n",
    "\n",
    "minpts = 5\n",
    "if(minpts>df_escalado['Id'].count()):\n",
    "    minpts = df_escalado['Id'].count()-1\n",
    "    \n",
    "a = kneighbors_graph(x_pca, minpts, include_self=False)\n",
    "\n",
    "ar = a.toarray()\n",
    "seq = []\n",
    "\n",
    "for i,s in enumerate(x_pca):\n",
    "    for j in range(len(x_pca)):\n",
    "        if ar[i][j] != 0:\n",
    "            seq.append(matsim[i][j])\n",
    "seq.sort()\n",
    "plt.plot(seq)\n",
    "plt.show()"
   ]
  },
  {
   "cell_type": "markdown",
   "metadata": {},
   "source": [
    "#### Representación Gráfica de los Gupos y Outliers"
   ]
  },
  {
   "cell_type": "code",
   "execution_count": 6,
   "metadata": {},
   "outputs": [
    {
     "data": {
      "image/png": "[encoded data removed]",
      "text/plain": [
       "<Figure size 1080x432 with 1 Axes>"
      ]
     },
     "metadata": {
      "needs_background": "light"
     },
     "output_type": "display_data"
    }
   ],
   "source": [
    "# Graficando los datos outliers\n",
    "\n",
    "plt.scatter(datos['Id'],datos['Potencia'],c=clusters,cmap='plasma',marker='.')\n",
    "plt.title(circuito+' - '+tag)\n",
    "plt.xlabel('Tiempo')\n",
    "plt.ylabel(dimension)\n",
    "plt.show()"
   ]
  },
  {
   "cell_type": "markdown",
   "metadata": {},
   "source": [
    "#### Datos de los Clusters y de los valores outliers"
   ]
  },
  {
   "cell_type": "code",
   "execution_count": 7,
   "metadata": {},
   "outputs": [
    {
     "data": {
      "text/html": [
       "<div>\n",
       "<style scoped>\n",
       "    .dataframe tbody tr th:only-of-type {\n",
       "        vertical-align: middle;\n",
       "    }\n",
       "\n",
       "    .dataframe tbody tr th {\n",
       "        vertical-align: top;\n",
       "    }\n",
       "\n",
       "    .dataframe thead th {\n",
       "        text-align: right;\n",
       "    }\n",
       "</style>\n",
       "<table border=\"1\" class=\"dataframe\">\n",
       "  <thead>\n",
       "    <tr style=\"text-align: right;\">\n",
       "      <th></th>\n",
       "      <th>Cantidad</th>\n",
       "    </tr>\n",
       "    <tr>\n",
       "      <th>Label</th>\n",
       "      <th></th>\n",
       "    </tr>\n",
       "  </thead>\n",
       "  <tbody>\n",
       "    <tr>\n",
       "      <th>0</th>\n",
       "      <td>3</td>\n",
       "    </tr>\n",
       "  </tbody>\n",
       "</table>\n",
       "</div>"
      ],
      "text/plain": [
       "       Cantidad\n",
       "Label          \n",
       "0             3"
      ]
     },
     "execution_count": 7,
     "metadata": {},
     "output_type": "execute_result"
    }
   ],
   "source": [
    "# Presentación de los grupos.\n",
    "\n",
    "resumen = pd.DataFrame()\n",
    "resumen['Id'] = datos['Id']\n",
    "resumen['Potencia'] = datos['Potencia']\n",
    "resumen['Label'] = clusters\n",
    "grupos = pd.DataFrame()\n",
    "grupos['Cantidad'] = resumen.groupby('Label').size()\n",
    "grupos"
   ]
  },
  {
   "cell_type": "markdown",
   "metadata": {},
   "source": [
    "#### Descripción de los datos Obtenidos"
   ]
  },
  {
   "cell_type": "code",
   "execution_count": 8,
   "metadata": {},
   "outputs": [
    {
     "name": "stdout",
     "output_type": "stream",
     "text": [
      "       Potencia\n",
      "count     3.000\n",
      "mean      0.024\n",
      "std       0.000\n",
      "min       0.024\n",
      "25%       0.024\n",
      "50%       0.024\n",
      "75%       0.024\n",
      "max       0.024\n",
      "================================= Datos\n",
      "       Potencia  Label\n",
      "count       0.0    0.0\n",
      "mean        NaN    NaN\n",
      "std         NaN    NaN\n",
      "min         NaN    NaN\n",
      "25%         NaN    NaN\n",
      "50%         NaN    NaN\n",
      "75%         NaN    NaN\n",
      "max         NaN    NaN\n",
      "================================= Ouliers\n",
      "       Potencia  Label\n",
      "count     3.000    3.0\n",
      "mean      0.024    0.0\n",
      "std       0.000    0.0\n",
      "min       0.024    0.0\n",
      "25%       0.024    0.0\n",
      "50%       0.024    0.0\n",
      "75%       0.024    0.0\n",
      "max       0.024    0.0\n",
      "================================= Datos Limpios\n"
     ]
    }
   ],
   "source": [
    "# Descripcón de los datos de salida\n",
    "\n",
    "datos = datosDestino[['Id','Potencia']].copy()\n",
    "outliers = resumen[resumen['Label']==-1]\n",
    "datos_limpios = resumen.drop(outliers.index)\n",
    "\n",
    "print(datos.describe())\n",
    "print('================================= Datos')\n",
    "print(outliers.describe())\n",
    "print('================================= Ouliers')\n",
    "print(datos_limpios.describe())\n",
    "print('================================= Datos Limpios')"
   ]
  },
  {
   "cell_type": "markdown",
   "metadata": {},
   "source": [
    "#### Gráfico para Visualizar los resultados"
   ]
  },
  {
   "cell_type": "code",
   "execution_count": 9,
   "metadata": {},
   "outputs": [
    {
     "data": {
      "image/png": "[encoded data removed]",
      "text/plain": [
       "<Figure size 1080x432 with 1 Axes>"
      ]
     },
     "metadata": {
      "needs_background": "light"
     },
     "output_type": "display_data"
    }
   ],
   "source": [
    "# Presentación de datos sin outliers\n",
    "\n",
    "plt.plot(datos['Id'],datos['Potencia'],color=\"red\",markersize=0.5,marker='.')\n",
    "plt.plot(datos_limpios['Id'],datos_limpios['Potencia'],color=\"blue\",markersize=0.05,marker='.')\n",
    "plt.title(circuito+' - '+tag)\n",
    "plt.xlabel('Tiempo')\n",
    "plt.ylabel(dimension)\n",
    "plt.show()"
   ]
  },
  {
   "cell_type": "markdown",
   "metadata": {},
   "source": [
    "#### Gráfico BOXPLOT para visualizar los outliers"
   ]
  },
  {
   "cell_type": "code",
   "execution_count": 10,
   "metadata": {},
   "outputs": [
    {
     "data": {
      "text/plain": [
       "<matplotlib.axes._subplots.AxesSubplot at 0x7fdd480f1a20>"
      ]
     },
     "execution_count": 10,
     "metadata": {},
     "output_type": "execute_result"
    },
    {
     "data": {
      "image/png": "[encoded data removed]",
      "text/plain": [
       "<Figure size 1080x432 with 1 Axes>"
      ]
     },
     "metadata": {
      "needs_background": "light"
     },
     "output_type": "display_data"
    }
   ],
   "source": [
    "# Diagrama de cajas\n",
    "\n",
    "sns.boxplot(datos['Potencia'])"
   ]
  }
 ],
 "metadata": {
  "kernelspec": {
   "display_name": "Python 3",
   "language": "python",
   "name": "python3"
  },
  "language_info": {
   "codemirror_mode": {
    "name": "ipython",
    "version": 3
   },
   "file_extension": ".py",
   "mimetype": "text/x-python",
   "name": "python",
   "nbconvert_exporter": "python",
   "pygments_lexer": "ipython3",
   "version": "3.7.3"
  }
 },
 "nbformat": 4,
 "nbformat_minor": 2
}
