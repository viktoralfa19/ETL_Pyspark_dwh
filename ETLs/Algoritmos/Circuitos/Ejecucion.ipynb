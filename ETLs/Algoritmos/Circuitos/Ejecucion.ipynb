{
 "cells": [
  {
   "cell_type": "code",
   "execution_count": 1,
   "metadata": {
    "scrolled": false
   },
   "outputs": [
    {
     "name": "stdout",
     "output_type": "stream",
     "text": [
      " **** EXITOSO: Datos insertados correctamente en la dimensión de cen_dws.fact_barra.**** \n"
     ]
    }
   ],
   "source": [
    "#from LimpiarCircuitos import LimpiarCircuitos\n",
    "#from LimpiarPosiciones import LimpiarPosiciones\n",
    "from LimpiarBarras import LimpiarBarras\n",
    "from HDFSContext import HDFSContext\n",
    "from DBContextDw import DBContextDw\n",
    "from EtlAL import EtlAL\n",
    "from GenericDataFrame import GenericDataFrame\n",
    "import datetime\n",
    "\n",
    "# Parametros\n",
    "dbContext = DBContextDw(Database='dwh_sirio',urlDriver='/home/jovyan/work/postgresql-42.2.12.jar')\n",
    "accesoDatos = EtlAL(dbContext)\n",
    "genericDataFrame = GenericDataFrame(HDFSContext(Path='PI_INTEGRATOR',DataBase='TRANSMISION',Schema=''))\n",
    "sc = genericDataFrame.spark.sparkContext\n",
    "#deltaDiffCircuito = 110\n",
    "#tableName = 'cen_dws.fact_circuito'\n",
    "#tableName = 'cen_dws.fact_posicion'\n",
    "tableName = 'cen_dws.fact_barra'\n",
    "\n",
    "fecha_inicio = datetime.datetime.strptime('2019-10-10 00:00', '%Y-%m-%d %H:%M')\n",
    "fecha_fin = datetime.datetime.strptime('2019-10-10 23:59', '%Y-%m-%d %H:%M')\n",
    "\n",
    "# Procesamiento Principal\n",
    "#LimpiarCircuitos.Procesamiento(fecha_inicio,fecha_fin,accesoDatos,genericDataFrame,sc,deltaDiffCircuito,tableName)\n",
    "#LimpiarPosiciones.Procesamiento(fecha_inicio,fecha_fin,accesoDatos,genericDataFrame,sc,tableName)\n",
    "LimpiarBarras.Procesamiento(fecha_inicio,fecha_fin,accesoDatos,genericDataFrame,sc,tableName)"
   ]
  }
 ],
 "metadata": {
  "kernelspec": {
   "display_name": "Python 3",
   "language": "python",
   "name": "python3"
  },
  "language_info": {
   "codemirror_mode": {
    "name": "ipython",
    "version": 3
   },
   "file_extension": ".py",
   "mimetype": "text/x-python",
   "name": "python",
   "nbconvert_exporter": "python",
   "pygments_lexer": "ipython3",
   "version": "3.7.3"
  }
 },
 "nbformat": 4,
 "nbformat_minor": 2
}
