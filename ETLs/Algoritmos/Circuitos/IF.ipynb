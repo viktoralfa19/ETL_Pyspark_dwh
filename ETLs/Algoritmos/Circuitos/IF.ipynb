{
 "cells": [
  {
   "cell_type": "markdown",
   "metadata": {},
   "source": [
    "# Algorítmo de limpieza de potencia aparente de Circuitos\n",
    "\n",
    "El presente algorítmo permitirá obtener valores de potencia aparente validada para almacenarla en el DWH, la estampa de tiempo de la validación es de 1 minuto.\n",
    "\n",
    "### Pasos a seguir durante el proceso:\n",
    "\n",
    "    - Limpieza de outliers con el Método: Local Outlier Factor (LOF)\n",
    "    - Aplicación del algoritmo de validación de máximos y mínimos\n",
    "    - Almacenamiento de los datos validados en el DWH"
   ]
  },
  {
   "cell_type": "markdown",
   "metadata": {},
   "source": [
    "### Limpieza de outliers con el Método: Local Outlier Factor (LOF)\n",
    "\n",
    "Utilizaremos la biblioreca **sklearn** la cual tiene listo el algoritmo LOF para ser implementado."
   ]
  },
  {
   "cell_type": "code",
   "execution_count": 1,
   "metadata": {},
   "outputs": [],
   "source": [
    "### Importación de clases y paquetes\n",
    "\n",
    "from GetCircuitos import GetCircuitos\n",
    "from pyspark.sql.functions import to_timestamp, col, regexp_replace\n",
    "import datetime\n",
    "import pandas as pd\n",
    "import numpy as np\n",
    "import seaborn as sns\n",
    "#from sklearn.neighbors import LocalOutlierFactor\n",
    "#from sklearn.ensemble import IsolationForest\n",
    "from sklearn.covariance import EllipticEnvelope\n",
    "import matplotlib.pylab as plt\n",
    "%matplotlib inline\n",
    "from matplotlib.pylab import rcParams\n",
    "rcParams['figure.figsize'] = 15, 6"
   ]
  },
  {
   "cell_type": "markdown",
   "metadata": {},
   "source": [
    "#### Obtención de los datos de Circuitos desde el HDFS ( POTENCIA DESTINO)"
   ]
  },
  {
   "cell_type": "code",
   "execution_count": 2,
   "metadata": {},
   "outputs": [
    {
     "name": "stdout",
     "output_type": "stream",
     "text": [
      "['Id', 'circuito', 'Potencia', 'Calidad', 'TagCalidadDestino', 'TagPotenciaDestino', 'Fecha', 'LimMaxOperacion', 'LimOperacionContinuo', 'LimTermico', 'NumCircuitos']\n",
      "+----------+--------------------------------+\n",
      "|circuito  |TagPotenciaDestino              |\n",
      "+----------+--------------------------------+\n",
      "|CHG138ELE2|CHONGON138CELEC_2_S.LINEA_CAL.AV|\n",
      "+----------+--------------------------------+\n",
      "\n"
     ]
    }
   ],
   "source": [
    "# Datos de entrada\n",
    "\n",
    "fecha_inicio = datetime.datetime.strptime('2019-10-10 00:00', '%Y-%m-%d %H:%M')\n",
    "fecha_fin = datetime.datetime.strptime('2019-10-10 23:59', '%Y-%m-%d %H:%M')\n",
    "circuito = 'CHG138ELE2'\n",
    "dimension = 'Potencia Aparente'\n",
    "\n",
    "# Datos De circuitos (DataFrame Pyspark)\n",
    "\n",
    "getCircuitos = GetCircuitos(TableName = '', FileName='circuitos_destino_*')\n",
    "circuitosDestino = getCircuitos.GetDataDestino(fecha_inicio,fecha_fin,circuito)\n",
    "print(circuitosDestino.columns)\n",
    "circuitosDestino.select('circuito','TagPotenciaDestino').distinct().show(truncate=False)\n",
    "tag = circuitosDestino.select('TagPotenciaDestino').distinct().first()[0]\n",
    "\n",
    "# Datos a pandas dataframe\n",
    "\n",
    "datosDestino = circuitosDestino.toPandas().set_index('Fecha')"
   ]
  },
  {
   "cell_type": "markdown",
   "metadata": {},
   "source": [
    "#### Definición del Algoritmo LOF, salida de datos outliers y datos limpios"
   ]
  },
  {
   "cell_type": "code",
   "execution_count": 3,
   "metadata": {},
   "outputs": [],
   "source": [
    "# Método LOF\n",
    "\n",
    "def limpiar_outliers(datos):\n",
    "    datos_totales = datos.copy()\n",
    "    #lof = LocalOutlierFactor(n_neighbors=5,contamination = 0.1)\n",
    "    #iso = IsolationForest(contamination = 0.1, behaviour=\"new\")\n",
    "    ee = EllipticEnvelope(contamination=0.1)\n",
    "    y_pred = ee.fit_predict(datos_totales)  \n",
    "    mascara = y_pred == -1\n",
    "    outliers = datos_totales[mascara]\n",
    "    datos_totales = datos_totales[~mascara]\n",
    "    return outliers, datos_totales"
   ]
  },
  {
   "cell_type": "markdown",
   "metadata": {},
   "source": [
    "#### Aplicación del Algoritmo LOF"
   ]
  },
  {
   "cell_type": "code",
   "execution_count": 4,
   "metadata": {},
   "outputs": [],
   "source": [
    "# Limpieza de datos\n",
    "\n",
    "datos = datosDestino[['Id','Potencia']].copy()\n",
    "outliers, datos_limpios = limpiar_outliers(datos)"
   ]
  },
  {
   "cell_type": "markdown",
   "metadata": {},
   "source": [
    "#### Descripción de los datos obtenidos"
   ]
  },
  {
   "cell_type": "code",
   "execution_count": 5,
   "metadata": {},
   "outputs": [
    {
     "name": "stdout",
     "output_type": "stream",
     "text": [
      "          Potencia\n",
      "count  4000.000000\n",
      "mean     16.938897\n",
      "std       5.066852\n",
      "min       7.444625\n",
      "25%      10.384142\n",
      "50%      19.859320\n",
      "75%      20.345115\n",
      "max      21.082870\n",
      "================================= Datos\n",
      "         Potencia\n",
      "count  400.000000\n",
      "mean     8.066268\n",
      "std      0.164613\n",
      "min      7.444625\n",
      "25%      7.992498\n",
      "50%      8.116223\n",
      "75%      8.186803\n",
      "max      8.290216\n",
      "================================= Ouliers\n",
      "          Potencia\n",
      "count  3600.000000\n",
      "mean     17.924745\n",
      "std       4.336090\n",
      "min       8.177746\n",
      "25%      19.235822\n",
      "50%      19.986999\n",
      "75%      20.379944\n",
      "max      21.082870\n",
      "================================= Datos Limpios\n"
     ]
    }
   ],
   "source": [
    "# Descripcón de los datos de salida\n",
    "\n",
    "print(datos.describe())\n",
    "print('================================= Datos')\n",
    "print(outliers.describe())\n",
    "print('================================= Ouliers')\n",
    "print(datos_limpios.describe())\n",
    "print('================================= Datos Limpios')"
   ]
  },
  {
   "cell_type": "markdown",
   "metadata": {},
   "source": [
    "#### Gráfico para Visualizar los resultados"
   ]
  },
  {
   "cell_type": "code",
   "execution_count": 6,
   "metadata": {},
   "outputs": [
    {
     "data": {
      "image/png": "[encoded data removed]",
      "text/plain": [
       "<Figure size 1080x432 with 1 Axes>"
      ]
     },
     "metadata": {
      "needs_background": "light"
     },
     "output_type": "display_data"
    }
   ],
   "source": [
    "# Presentación de datos sin outliers\n",
    "\n",
    "plt.plot(datos['Id'],datos['Potencia'],color=\"red\",markersize=0.5,marker='.')\n",
    "plt.plot(datos_limpios['Id'],datos_limpios['Potencia'],color=\"blue\",markersize=0.5,marker='.')\n",
    "plt.title(circuito+' - '+tag)\n",
    "plt.xlabel('Tiempo')\n",
    "plt.ylabel(dimension)\n",
    "plt.show()"
   ]
  },
  {
   "cell_type": "markdown",
   "metadata": {},
   "source": [
    "#### Gráfico BOXPLOT para visualizar los outliers"
   ]
  },
  {
   "cell_type": "code",
   "execution_count": 7,
   "metadata": {},
   "outputs": [
    {
     "data": {
      "text/plain": [
       "<matplotlib.axes._subplots.AxesSubplot at 0x7f5bdaf29128>"
      ]
     },
     "execution_count": 7,
     "metadata": {},
     "output_type": "execute_result"
    },
    {
     "data": {
      "image/png": "[encoded data removed]",
      "text/plain": [
       "<Figure size 1080x432 with 1 Axes>"
      ]
     },
     "metadata": {
      "needs_background": "light"
     },
     "output_type": "display_data"
    }
   ],
   "source": [
    "# Diagrama de cajas\n",
    "\n",
    "sns.boxplot(datos['Potencia'])"
   ]
  }
 ],
 "metadata": {
  "kernelspec": {
   "display_name": "Python 3",
   "language": "python",
   "name": "python3"
  },
  "language_info": {
   "codemirror_mode": {
    "name": "ipython",
    "version": 3
   },
   "file_extension": ".py",
   "mimetype": "text/x-python",
   "name": "python",
   "nbconvert_exporter": "python",
   "pygments_lexer": "ipython3",
   "version": "3.7.3"
  }
 },
 "nbformat": 4,
 "nbformat_minor": 2
}
