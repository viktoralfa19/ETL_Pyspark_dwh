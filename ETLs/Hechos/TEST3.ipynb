{
 "cells": [
  {
   "cell_type": "markdown",
   "metadata": {},
   "source": [
    "# Factor de Carga\n",
    "\n",
    " - **Desarrollador:** Víctor Echeverría\n",
    " - **Fecha:** 2020-09-18\n",
    " - **Descripción:** Se realiza la carga de los datos para realizar las ejecuciones calendarizadas de los ETLs de Factor de Carga y carga inicial de datos."
   ]
  },
  {
   "cell_type": "code",
   "execution_count": 1,
   "metadata": {
    "scrolled": false
   },
   "outputs": [
    {
     "name": "stdout",
     "output_type": "stream",
     "text": [
      "---- Proceso de ETL de Hechos de Distribución ENS ---- \n",
      "\n",
      "DATAWAREHOUSE: dwh_sirio\n",
      "DIMENSIÓN: fact_dist_ens \n",
      "\n",
      "1. Extracción de datos y Transformación de datos\n",
      "2. Cargar  datos\n",
      "\n",
      " **** EXITOSO: Datos insertados correctamente en la dimensión de cen_dws.fact_dist_ens.**** \n"
     ]
    },
    {
     "data": {
      "text/plain": [
       "True"
      ]
     },
     "execution_count": 1,
     "metadata": {},
     "output_type": "execute_result"
    }
   ],
   "source": [
    "from LimpiarDistribucionEns import LimpiarDistribucionEns\n",
    "import datetime\n",
    "\n",
    "fecha_inicio = datetime.datetime.strptime('1999-01-01','%Y-%m-%d')\n",
    "fecha_fin = datetime.datetime.strptime('1999-12-31','%Y-%m-%d')\n",
    "modulo = None,\n",
    "deteleTmpQuery = None\n",
    "deteleFactQuery = 'DELETE FROM cen_dws.fact_dist_ens WHERE tmpo_id_fk between \\'{0}\\' and \\'{1}\\''\n",
    "LimpiarDistribucionEns.Elt_main(fecha_inicio,fecha_fin,modulo,deteleTmpQuery,deteleFactQuery)"
   ]
  }
 ],
 "metadata": {
  "kernelspec": {
   "display_name": "Python 3",
   "language": "python",
   "name": "python3"
  },
  "language_info": {
   "codemirror_mode": {
    "name": "ipython",
    "version": 3
   },
   "file_extension": ".py",
   "mimetype": "text/x-python",
   "name": "python",
   "nbconvert_exporter": "python",
   "pygments_lexer": "ipython3",
   "version": "3.7.3"
  }
 },
 "nbformat": 4,
 "nbformat_minor": 2
}
